{
 "cells": [
  {
   "cell_type": "code",
   "execution_count": 1,
   "metadata": {},
   "outputs": [],
   "source": [
    "from bs4 import BeautifulSoup\n",
    "import requests\n",
    "import json"
   ]
  },
  {
   "cell_type": "code",
   "execution_count": 2,
   "metadata": {},
   "outputs": [],
   "source": [
    "home_url = 'https://www.simplytarot.com'\n",
    "base_urls = [\n",
    "    'https://www.simplytarot.com/tarot-card-meanings/major-arcana-tarot-card-meanings/',\n",
    "    'https://www.simplytarot.com/tarot-card-meanings/minor-arcana/swords/',\n",
    "    'https://www.simplytarot.com/tarot-card-meanings/minor-arcana/cups/',\n",
    "    'https://www.simplytarot.com/tarot-card-meanings/minor-arcana/wands/',\n",
    "    'https://www.simplytarot.com/tarot-card-meanings/minor-arcana/pentacles/'\n",
    "]\n",
    "headers={'User-Agent': 'Mozilla/5.0 (Windows NT 6.1; Win64; x64; rv:47.0) Gecko/20100101 Firefox/47.0'}"
   ]
  },
  {
   "cell_type": "code",
   "execution_count": 3,
   "metadata": {
    "scrolled": true
   },
   "outputs": [],
   "source": [
    "bodies = {}\n",
    "for url in base_urls:\n",
    "    html_body = requests.get(\n",
    "        url,\n",
    "        headers=headers).content\n",
    "    bodies[url] = BeautifulSoup(html_body).find_all('div', class_='cardContainer')"
   ]
  },
  {
   "cell_type": "code",
   "execution_count": 25,
   "metadata": {},
   "outputs": [],
   "source": [
    "cards = {}\n",
    "errors = []\n",
    "for url, body in bodies.items():\n",
    "    for card in body:\n",
    "        card_name = card.find('img')['alt'].lower().replace(' ', '-').replace('care', 'card').replace('taort', 'tarot')\n",
    "        card_name = card_name.replace('the-', '').replace('.', '-').replace('-tarot-card', '')\n",
    "        response = requests.get(url + card_name, headers=headers)\n",
    "        \n",
    "        if response.status_code > 300:\n",
    "            errors.append(response)\n",
    "        else:\n",
    "            cards[card_name] = response.content"
   ]
  },
  {
   "cell_type": "code",
   "execution_count": 38,
   "metadata": {},
   "outputs": [],
   "source": [
    "cards_formatted = []\n",
    "for card, body in cards.items():\n",
    "    card_bs = BeautifulSoup(body)\n",
    "    \n",
    "    content = [c for c in card_bs.find_all('div', class_='card') if c.get_text() != ''][0]\n",
    "    \n",
    "    if content != None:\n",
    "        image_url = 'https://www.simplytarot.com' + card_bs.find('', class_='cardImgLink').img['src']\n",
    "        parragraphs = content.find_all('p')\n",
    "    \n",
    "        cards_formatted.append({\n",
    "            'name': card,\n",
    "            'summary': parragraphs[0].get_text(),\n",
    "            'full_meaning': parragraphs[2].get_text(),\n",
    "            'image': image_url\n",
    "        })"
   ]
  },
  {
   "cell_type": "code",
   "execution_count": 116,
   "metadata": {},
   "outputs": [],
   "source": [
    "def save_json(obj, file_name):\n",
    "    with open(file_name, 'w') as file:\n",
    "        json.dump(obj, file)\n",
    "save_json(cards_formatted, 'cards.json')"
   ]
  },
  {
   "cell_type": "code",
   "execution_count": 41,
   "metadata": {},
   "outputs": [],
   "source": [
    "# Load the cards\n",
    "cards = json.loads(open('./lib/cards.json', 'r').read())"
   ]
  },
  {
   "cell_type": "code",
   "execution_count": 52,
   "metadata": {},
   "outputs": [],
   "source": [
    "meanings_url = 'https://labyrinthos.co/blogs/tarot-card-meanings-list'\n",
    "\n",
    "html_body = requests.get(\n",
    "        meanings_url,\n",
    "        headers=headers).content\n",
    "meanings_bs = BeautifulSoup(html_body)"
   ]
  },
  {
   "cell_type": "code",
   "execution_count": 59,
   "metadata": {},
   "outputs": [],
   "source": [
    "html_cards = meanings_bs.find_all('div', class_='grid__item large--one-quarter medium--one-third text-center card')"
   ]
  },
  {
   "cell_type": "code",
   "execution_count": 103,
   "metadata": {},
   "outputs": [],
   "source": [
    "cards_as_map = { card['name'].replace('\"', ''): card for card in cards }"
   ]
  },
  {
   "cell_type": "code",
   "execution_count": 104,
   "metadata": {},
   "outputs": [
    {
     "data": {
      "text/plain": [
       "dict_keys(['the-fool', 'the-magician', 'the-empress', 'the-emperor', 'the-high-priestess', 'the-hierophant', 'the-lovers', 'the-chariot', 'justice', 'temperance', 'strength', 'the-hermit', 'the-wheel-of-fortune', 'the-hanged-man', 'death', 'the-devil', 'the-tower', 'the-star', 'the-moon', 'the-sun', 'judgement', 'the-world', 'ace-of-swords', 'two-of-swords', 'three-of-swords', 'four-of-swords', 'five-of-swords', 'six-of-swords', 'seven-of-swords', 'eight-of-swords', 'nine-of-swords', 'ten-of-swords', 'page-of-swords', 'knight-of-swords', 'queen-of-swords', 'king-of-swords', 'ace-of-cups', 'two-of-cups', 'three-of-cups', 'four-of-cups', 'five-of-cups', 'six-of-cups', 'seven-of-cups', 'eight-of-cups', 'nine-of-cups', 'ten-of-cups', 'page-of-cups', 'knight-of-cups', 'queen-of-cups', 'king-of-cups', 'ace-of-wands', 'two-of-wands', 'three-of-wands', 'four-of-wands', 'five-of-wands', 'six-of-wands', 'seven-of-wands', 'eight-of-wands', 'nine-of-wands', 'ten-of-wands', 'page-of-wands', 'knight-of-wands', 'queen-of-wands', 'king-of-wands', 'ace-of-pentacles', 'two-of-pentacles', 'three-of-pentacles', 'four-of-pentacles', 'five-of-pentacles', 'six-of-pentacles', 'seven-of-pentacles', 'eight-of-pentacles', 'nine-of-pentacles', 'ten-of-pentacles', 'page-of-pentacles', 'knight-of-pentacles', 'queen-of-pentacles', 'king-of-pentacles'])"
      ]
     },
     "execution_count": 104,
     "metadata": {},
     "output_type": "execute_result"
    }
   ],
   "source": [
    "cards_as_map.keys()"
   ]
  },
  {
   "cell_type": "code",
   "execution_count": 105,
   "metadata": {},
   "outputs": [],
   "source": [
    "def get_card_name(card):\n",
    "    return card.find('img')['alt'].split(' - ')[0].lower().replace(' ', '-').replace('-meaning', '')"
   ]
  },
  {
   "cell_type": "code",
   "execution_count": 106,
   "metadata": {},
   "outputs": [],
   "source": [
    "def get_upright_reversed(card):\n",
    "    clean_text = card.find('div', class_='rte rte--indented-images').text.strip()\n",
    "    upright, reversed_ = clean_text.replace('Upright: ', '').split(', Reversed: ')\n",
    "    \n",
    "    return upright, reversed_"
   ]
  },
  {
   "cell_type": "code",
   "execution_count": 108,
   "metadata": {},
   "outputs": [],
   "source": [
    "for card in html_cards:\n",
    "    name = get_card_name(card)\n",
    "    \n",
    "    upright, reversed_ = get_upright_reversed(card)\n",
    "    \n",
    "    cards_as_map[name]['upright'] = upright\n",
    "    cards_as_map[name]['reversed'] = reversed_"
   ]
  },
  {
   "cell_type": "code",
   "execution_count": 109,
   "metadata": {},
   "outputs": [
    {
     "data": {
      "text/plain": [
       "{'name': 'seven-of-wands\"',\n",
       " 'summary': 'Buy this deck',\n",
       " 'full_meaning': 'The Subject really needs to think this through; a decision has to be taken regarding this issue – should they come away from this relationship/situation? \\xa0Or should they make a real effort to change their attitude and inject some enthusiasm back into it?',\n",
       " 'image': 'https://www.simplytarot.com/wp-content/uploads/2015/04/seven-of-wands-tarot-card.png',\n",
       " 'upright': 'perseverance, defensive, maintaining control',\n",
       " 'reversed': 'give up, destroyed confidence, overwhelmed'}"
      ]
     },
     "execution_count": 109,
     "metadata": {},
     "output_type": "execute_result"
    }
   ],
   "source": [
    "cards_as_map['seven-of-wands']"
   ]
  },
  {
   "cell_type": "code",
   "execution_count": 117,
   "metadata": {},
   "outputs": [],
   "source": [
    "save_json(list(cards_as_map.values()), './lib/cards.json')"
   ]
  }
 ],
 "metadata": {
  "kernelspec": {
   "display_name": "Python 3",
   "language": "python",
   "name": "python3"
  },
  "language_info": {
   "codemirror_mode": {
    "name": "ipython",
    "version": 3
   },
   "file_extension": ".py",
   "mimetype": "text/x-python",
   "name": "python",
   "nbconvert_exporter": "python",
   "pygments_lexer": "ipython3",
   "version": "3.7.3"
  }
 },
 "nbformat": 4,
 "nbformat_minor": 4
}

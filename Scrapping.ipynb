{
 "cells": [
  {
   "cell_type": "code",
   "execution_count": 4,
   "metadata": {},
   "outputs": [],
   "source": [
    "from bs4 import BeautifulSoup\n",
    "import requests"
   ]
  },
  {
   "cell_type": "code",
   "execution_count": 11,
   "metadata": {},
   "outputs": [],
   "source": [
    "base_urls = [\n",
    "    'https://www.simplytarot.com/tarot-card-meanings/major-arcana-tarot-card-meanings/',\n",
    "    'https://www.simplytarot.com/tarot-card-meanings/minor-arcana/swords/',\n",
    "    'https://www.simplytarot.com/tarot-card-meanings/minor-arcana/cups/',\n",
    "    'https://www.simplytarot.com/tarot-card-meanings/minor-arcana/wands/',\n",
    "    'https://www.simplytarot.com/tarot-card-meanings/minor-arcana/pentacles/'\n",
    "]\n",
    "headers={'User-Agent': 'Mozilla/5.0 (Windows NT 6.1; Win64; x64; rv:47.0) Gecko/20100101 Firefox/47.0'}"
   ]
  },
  {
   "cell_type": "code",
   "execution_count": 12,
   "metadata": {
    "scrolled": true
   },
   "outputs": [],
   "source": [
    "bodies = {}\n",
    "for url in base_urls:\n",
    "    html_body = requests.get(\n",
    "        url,\n",
    "        headers=headers).content\n",
    "    bodies[url] = BeautifulSoup(html_body).find_all('div', class_='cardContainer')"
   ]
  },
  {
   "cell_type": "code",
   "execution_count": 13,
   "metadata": {},
   "outputs": [],
   "source": [
    "cards = {}\n",
    "\n",
    "for url, body in bodies.items():\n",
    "    for card in body:\n",
    "        card_name = card.find('img')['alt'].replace('-tarot-card', '')\n",
    "\n",
    "        cards[card_name] = requests.get(url + card_name, headers=headers).content"
   ]
  },
  {
   "cell_type": "code",
   "execution_count": 14,
   "metadata": {},
   "outputs": [],
   "source": [
    "cards_formatted = {}\n",
    "for card, body in cards.items():\n",
    "    card_bs = BeautifulSoup(body)\n",
    "    \n",
    "    for div in card_bs.find_all('div', class_='card'):\n",
    "        body = \"\"\n",
    "        if div.find('p') != None:\n",
    "            body = div.find('p').get_text()\n",
    "        cards_formatted[card] = body"
   ]
  },
  {
   "cell_type": "code",
   "execution_count": 20,
   "metadata": {
    "scrolled": true
   },
   "outputs": [],
   "source": [
    "cards_to_json = [ { 'name': name.replace('-', ' '), 'summary': summary } for name, summary in cards_formatted.items() ]"
   ]
  },
  {
   "cell_type": "code",
   "execution_count": 23,
   "metadata": {},
   "outputs": [],
   "source": [
    "import json\n",
    "\n",
    "with open('cards.json', 'w') as file:\n",
    "    json.dump(cards_to_json, file)"
   ]
  },
  {
   "cell_type": "code",
   "execution_count": null,
   "metadata": {},
   "outputs": [],
   "source": []
  }
 ],
 "metadata": {
  "kernelspec": {
   "display_name": "Python 3",
   "language": "python",
   "name": "python3"
  },
  "language_info": {
   "codemirror_mode": {
    "name": "ipython",
    "version": 3
   },
   "file_extension": ".py",
   "mimetype": "text/x-python",
   "name": "python",
   "nbconvert_exporter": "python",
   "pygments_lexer": "ipython3",
   "version": "3.7.3"
  }
 },
 "nbformat": 4,
 "nbformat_minor": 4
}
